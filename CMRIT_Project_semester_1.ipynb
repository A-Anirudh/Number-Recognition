{
  "nbformat": 4,
  "nbformat_minor": 0,
  "metadata": {
    "colab": {
      "name": "CMRIT Project semester 1",
      "provenance": [],
      "collapsed_sections": [],
      "authorship_tag": "ABX9TyOE5sZFWRXqficAIZNEYYmE",
      "include_colab_link": true
    },
    "kernelspec": {
      "name": "python3",
      "display_name": "Python 3"
    },
    "language_info": {
      "name": "python"
    },
    "accelerator": "GPU"
  },
  "cells": [
    {
      "cell_type": "markdown",
      "metadata": {
        "id": "view-in-github",
        "colab_type": "text"
      },
      "source": [
        "<a href=\"https://colab.research.google.com/github/A-Anirudh/devconnect/blob/main/CMRIT_Project_semester_1.ipynb\" target=\"_parent\"><img src=\"https://colab.research.google.com/assets/colab-badge.svg\" alt=\"Open In Colab\"/></a>"
      ]
    },
    {
      "cell_type": "code",
      "execution_count": null,
      "metadata": {
        "id": "itil5bGU2GoS",
        "colab": {
          "base_uri": "https://localhost:8080/"
        },
        "outputId": "adfc1bd7-bb2b-4a12-abbe-4f465da9708f"
      },
      "outputs": [
        {
          "output_type": "stream",
          "name": "stdout",
          "text": [
            "Downloading data from https://storage.googleapis.com/tensorflow/tf-keras-datasets/mnist.npz\n",
            "11493376/11490434 [==============================] - 0s 0us/step\n",
            "11501568/11490434 [==============================] - 0s 0us/step\n"
          ]
        }
      ],
      "source": [
        "import tensorflow as tf\n",
        "from tensorflow.keras.datasets import mnist\n",
        "\n",
        "# The data has already been sorted into training and test sets for us\n",
        "(train_data, train_labels), (test_data, test_labels) = mnist.load_data()\n",
        "class_names = [0,1,2,3,4,5,6,7,8,9]"
      ]
    },
    {
      "cell_type": "code",
      "source": [
        "# Show the first training example\n",
        "print(f\"Training sample:\\n{train_data[0]}\\n\") \n",
        "print(f\"Training label: {train_labels[0]}\")"
      ],
      "metadata": {
        "colab": {
          "base_uri": "https://localhost:8080/"
        },
        "id": "AD7kC-0l3hJZ",
        "outputId": "71b22b75-57c4-4053-b41f-74106d4ef8a3"
      },
      "execution_count": null,
      "outputs": [
        {
          "output_type": "stream",
          "name": "stdout",
          "text": [
            "Training sample:\n",
            "[[  0   0   0   0   0   0   0   0   0   0   0   0   0   0   0   0   0   0\n",
            "    0   0   0   0   0   0   0   0   0   0]\n",
            " [  0   0   0   0   0   0   0   0   0   0   0   0   0   0   0   0   0   0\n",
            "    0   0   0   0   0   0   0   0   0   0]\n",
            " [  0   0   0   0   0   0   0   0   0   0   0   0   0   0   0   0   0   0\n",
            "    0   0   0   0   0   0   0   0   0   0]\n",
            " [  0   0   0   0   0   0   0   0   0   0   0   0   0   0   0   0   0   0\n",
            "    0   0   0   0   0   0   0   0   0   0]\n",
            " [  0   0   0   0   0   0   0   0   0   0   0   0   0   0   0   0   0   0\n",
            "    0   0   0   0   0   0   0   0   0   0]\n",
            " [  0   0   0   0   0   0   0   0   0   0   0   0   3  18  18  18 126 136\n",
            "  175  26 166 255 247 127   0   0   0   0]\n",
            " [  0   0   0   0   0   0   0   0  30  36  94 154 170 253 253 253 253 253\n",
            "  225 172 253 242 195  64   0   0   0   0]\n",
            " [  0   0   0   0   0   0   0  49 238 253 253 253 253 253 253 253 253 251\n",
            "   93  82  82  56  39   0   0   0   0   0]\n",
            " [  0   0   0   0   0   0   0  18 219 253 253 253 253 253 198 182 247 241\n",
            "    0   0   0   0   0   0   0   0   0   0]\n",
            " [  0   0   0   0   0   0   0   0  80 156 107 253 253 205  11   0  43 154\n",
            "    0   0   0   0   0   0   0   0   0   0]\n",
            " [  0   0   0   0   0   0   0   0   0  14   1 154 253  90   0   0   0   0\n",
            "    0   0   0   0   0   0   0   0   0   0]\n",
            " [  0   0   0   0   0   0   0   0   0   0   0 139 253 190   2   0   0   0\n",
            "    0   0   0   0   0   0   0   0   0   0]\n",
            " [  0   0   0   0   0   0   0   0   0   0   0  11 190 253  70   0   0   0\n",
            "    0   0   0   0   0   0   0   0   0   0]\n",
            " [  0   0   0   0   0   0   0   0   0   0   0   0  35 241 225 160 108   1\n",
            "    0   0   0   0   0   0   0   0   0   0]\n",
            " [  0   0   0   0   0   0   0   0   0   0   0   0   0  81 240 253 253 119\n",
            "   25   0   0   0   0   0   0   0   0   0]\n",
            " [  0   0   0   0   0   0   0   0   0   0   0   0   0   0  45 186 253 253\n",
            "  150  27   0   0   0   0   0   0   0   0]\n",
            " [  0   0   0   0   0   0   0   0   0   0   0   0   0   0   0  16  93 252\n",
            "  253 187   0   0   0   0   0   0   0   0]\n",
            " [  0   0   0   0   0   0   0   0   0   0   0   0   0   0   0   0   0 249\n",
            "  253 249  64   0   0   0   0   0   0   0]\n",
            " [  0   0   0   0   0   0   0   0   0   0   0   0   0   0  46 130 183 253\n",
            "  253 207   2   0   0   0   0   0   0   0]\n",
            " [  0   0   0   0   0   0   0   0   0   0   0   0  39 148 229 253 253 253\n",
            "  250 182   0   0   0   0   0   0   0   0]\n",
            " [  0   0   0   0   0   0   0   0   0   0  24 114 221 253 253 253 253 201\n",
            "   78   0   0   0   0   0   0   0   0   0]\n",
            " [  0   0   0   0   0   0   0   0  23  66 213 253 253 253 253 198  81   2\n",
            "    0   0   0   0   0   0   0   0   0   0]\n",
            " [  0   0   0   0   0   0  18 171 219 253 253 253 253 195  80   9   0   0\n",
            "    0   0   0   0   0   0   0   0   0   0]\n",
            " [  0   0   0   0  55 172 226 253 253 253 253 244 133  11   0   0   0   0\n",
            "    0   0   0   0   0   0   0   0   0   0]\n",
            " [  0   0   0   0 136 253 253 253 212 135 132  16   0   0   0   0   0   0\n",
            "    0   0   0   0   0   0   0   0   0   0]\n",
            " [  0   0   0   0   0   0   0   0   0   0   0   0   0   0   0   0   0   0\n",
            "    0   0   0   0   0   0   0   0   0   0]\n",
            " [  0   0   0   0   0   0   0   0   0   0   0   0   0   0   0   0   0   0\n",
            "    0   0   0   0   0   0   0   0   0   0]\n",
            " [  0   0   0   0   0   0   0   0   0   0   0   0   0   0   0   0   0   0\n",
            "    0   0   0   0   0   0   0   0   0   0]]\n",
            "\n",
            "Training label: 5\n"
          ]
        }
      ]
    },
    {
      "cell_type": "code",
      "source": [
        "# Check the shape of our data\n",
        "train_data.shape, train_labels.shape, test_data.shape, test_labels.shape"
      ],
      "metadata": {
        "colab": {
          "base_uri": "https://localhost:8080/"
        },
        "id": "MGxorP3_33v4",
        "outputId": "47e8843f-d2ec-4588-e019-87f0851db3b3"
      },
      "execution_count": null,
      "outputs": [
        {
          "output_type": "execute_result",
          "data": {
            "text/plain": [
              "((60000, 28, 28), (60000,), (10000, 28, 28), (10000,))"
            ]
          },
          "metadata": {},
          "execution_count": 3
        }
      ]
    },
    {
      "cell_type": "code",
      "source": [
        "# Plot a single example\n",
        "import matplotlib.pyplot as plt\n",
        "import random\n",
        "i = random.randint(0,60000)\n",
        "print(i)\n",
        "plt.imshow(train_data[i]);\n",
        "print(train_labels[i])"
      ],
      "metadata": {
        "colab": {
          "base_uri": "https://localhost:8080/",
          "height": 300
        },
        "id": "z_-_o6Xj3_zy",
        "outputId": "93f56c89-ee52-47f6-d48c-34de32cb9137"
      },
      "execution_count": null,
      "outputs": [
        {
          "output_type": "stream",
          "name": "stdout",
          "text": [
            "59314\n",
            "9\n"
          ]
        },
        {
          "output_type": "display_data",
          "data": {
            "image/png": "[encoded data removed]",
            "text/plain": [
              "<Figure size 432x288 with 1 Axes>"
            ]
          },
          "metadata": {
            "needs_background": "light"
          }
        }
      ]
    },
    {
      "cell_type": "code",
      "source": [
        "# Normalizing our data\n",
        "\n",
        "test_data_normalized = test_data/255.\n",
        "\n",
        "train_data_normalized = train_data/255."
      ],
      "metadata": {
        "id": "0405oCrn5qOT"
      },
      "execution_count": null,
      "outputs": []
    },
    {
      "cell_type": "code",
      "source": [
        "train_labels[0]"
      ],
      "metadata": {
        "colab": {
          "base_uri": "https://localhost:8080/"
        },
        "id": "Ak_pvs_AEi_K",
        "outputId": "f0ff7492-3092-41d4-c08f-581d895c306b"
      },
      "execution_count": null,
      "outputs": [
        {
          "output_type": "execute_result",
          "data": {
            "text/plain": [
              "5"
            ]
          },
          "metadata": {},
          "execution_count": 6
        }
      ]
    },
    {
      "cell_type": "code",
      "source": [
        "test_data_normalized[0]"
      ],
      "metadata": {
        "colab": {
          "base_uri": "https://localhost:8080/"
        },
        "id": "6r2ZdYoH5z5l",
        "outputId": "accdaafe-51ef-40b6-e82c-01972fa5ed80"
      },
      "execution_count": null,
      "outputs": [
        {
          "output_type": "execute_result",
          "data": {
            "text/plain": [
              "array([[0.        , 0.        , 0.        , 0.        , 0.        ,\n",
              "        0.        , 0.        , 0.        , 0.        , 0.        ,\n",
              "        0.        , 0.        , 0.        , 0.        , 0.        ,\n",
              "        0.        , 0.        , 0.        , 0.        , 0.        ,\n",
              "        0.        , 0.        , 0.        , 0.        , 0.        ,\n",
              "        0.        , 0.        , 0.        ],\n",
              "       [0.        , 0.        , 0.        , 0.        , 0.        ,\n",
              "        0.        , 0.        , 0.        , 0.        , 0.        ,\n",
              "        0.        , 0.        , 0.        , 0.        , 0.        ,\n",
              "        0.        , 0.        , 0.        , 0.        , 0.        ,\n",
              "        0.        , 0.        , 0.        , 0.        , 0.        ,\n",
              "        0.        , 0.        , 0.        ],\n",
              "       [0.        , 0.        , 0.        , 0.        , 0.        ,\n",
              "        0.        , 0.        , 0.        , 0.        , 0.        ,\n",
              "        0.        , 0.        , 0.        , 0.        , 0.        ,\n",
              "        0.        , 0.        , 0.        , 0.        , 0.        ,\n",
              "        0.        , 0.        , 0.        , 0.        , 0.        ,\n",
              "        0.        , 0.        , 0.        ],\n",
              "       [0.        , 0.        , 0.        , 0.        , 0.        ,\n",
              "        0.        , 0.        , 0.        , 0.        , 0.        ,\n",
              "        0.        , 0.        , 0.        , 0.        , 0.        ,\n",
              "        0.        , 0.        , 0.        , 0.        , 0.        ,\n",
              "        0.        , 0.        , 0.        , 0.        , 0.        ,\n",
              "        0.        , 0.        , 0.        ],\n",
              "       [0.        , 0.        , 0.        , 0.        , 0.        ,\n",
              "        0.        , 0.        , 0.        , 0.        , 0.        ,\n",
              "        0.        , 0.        , 0.        , 0.        , 0.        ,\n",
              "        0.        , 0.        , 0.        , 0.        , 0.        ,\n",
              "        0.        , 0.        , 0.        , 0.        , 0.        ,\n",
              "        0.        , 0.        , 0.        ],\n",
              "       [0.        , 0.        , 0.        , 0.        , 0.        ,\n",
              "        0.        , 0.        , 0.        , 0.        , 0.        ,\n",
              "        0.        , 0.        , 0.        , 0.        , 0.        ,\n",
              "        0.        , 0.        , 0.        , 0.        , 0.        ,\n",
              "        0.        , 0.        , 0.        , 0.        , 0.        ,\n",
              "        0.        , 0.        , 0.        ],\n",
              "       [0.        , 0.        , 0.        , 0.        , 0.        ,\n",
              "        0.        , 0.        , 0.        , 0.        , 0.        ,\n",
              "        0.        , 0.        , 0.        , 0.        , 0.        ,\n",
              "        0.        , 0.        , 0.        , 0.        , 0.        ,\n",
              "        0.        , 0.        , 0.        , 0.        , 0.        ,\n",
              "        0.        , 0.        , 0.        ],\n",
              "       [0.        , 0.        , 0.        , 0.        , 0.        ,\n",
              "        0.        , 0.32941176, 0.7254902 , 0.62352941, 0.59215686,\n",
              "        0.23529412, 0.14117647, 0.        , 0.        , 0.        ,\n",
              "        0.        , 0.        , 0.        , 0.        , 0.        ,\n",
              "        0.        , 0.        , 0.        , 0.        , 0.        ,\n",
              "        0.        , 0.        , 0.        ],\n",
              "       [0.        , 0.        , 0.        , 0.        , 0.        ,\n",
              "        0.        , 0.87058824, 0.99607843, 0.99607843, 0.99607843,\n",
              "        0.99607843, 0.94509804, 0.77647059, 0.77647059, 0.77647059,\n",
              "        0.77647059, 0.77647059, 0.77647059, 0.77647059, 0.77647059,\n",
              "        0.66666667, 0.20392157, 0.        , 0.        , 0.        ,\n",
              "        0.        , 0.        , 0.        ],\n",
              "       [0.        , 0.        , 0.        , 0.        , 0.        ,\n",
              "        0.        , 0.2627451 , 0.44705882, 0.28235294, 0.44705882,\n",
              "        0.63921569, 0.89019608, 0.99607843, 0.88235294, 0.99607843,\n",
              "        0.99607843, 0.99607843, 0.98039216, 0.89803922, 0.99607843,\n",
              "        0.99607843, 0.54901961, 0.        , 0.        , 0.        ,\n",
              "        0.        , 0.        , 0.        ],\n",
              "       [0.        , 0.        , 0.        , 0.        , 0.        ,\n",
              "        0.        , 0.        , 0.        , 0.        , 0.        ,\n",
              "        0.        , 0.06666667, 0.25882353, 0.05490196, 0.2627451 ,\n",
              "        0.2627451 , 0.2627451 , 0.23137255, 0.08235294, 0.9254902 ,\n",
              "        0.99607843, 0.41568627, 0.        , 0.        , 0.        ,\n",
              "        0.        , 0.        , 0.        ],\n",
              "       [0.        , 0.        , 0.        , 0.        , 0.        ,\n",
              "        0.        , 0.        , 0.        , 0.        , 0.        ,\n",
              "        0.        , 0.        , 0.        , 0.        , 0.        ,\n",
              "        0.        , 0.        , 0.        , 0.3254902 , 0.99215686,\n",
              "        0.81960784, 0.07058824, 0.        , 0.        , 0.        ,\n",
              "        0.        , 0.        , 0.        ],\n",
              "       [0.        , 0.        , 0.        , 0.        , 0.        ,\n",
              "        0.        , 0.        , 0.        , 0.        , 0.        ,\n",
              "        0.        , 0.        , 0.        , 0.        , 0.        ,\n",
              "        0.        , 0.        , 0.08627451, 0.91372549, 1.        ,\n",
              "        0.3254902 , 0.        , 0.        , 0.        , 0.        ,\n",
              "        0.        , 0.        , 0.        ],\n",
              "       [0.        , 0.        , 0.        , 0.        , 0.        ,\n",
              "        0.        , 0.        , 0.        , 0.        , 0.        ,\n",
              "        0.        , 0.        , 0.        , 0.        , 0.        ,\n",
              "        0.        , 0.        , 0.50588235, 0.99607843, 0.93333333,\n",
              "        0.17254902, 0.        , 0.        , 0.        , 0.        ,\n",
              "        0.        , 0.        , 0.        ],\n",
              "       [0.        , 0.        , 0.        , 0.        , 0.        ,\n",
              "        0.        , 0.        , 0.        , 0.        , 0.        ,\n",
              "        0.        , 0.        , 0.        , 0.        , 0.        ,\n",
              "        0.        , 0.23137255, 0.97647059, 0.99607843, 0.24313725,\n",
              "        0.        , 0.        , 0.        , 0.        , 0.        ,\n",
              "        0.        , 0.        , 0.        ],\n",
              "       [0.        , 0.        , 0.        , 0.        , 0.        ,\n",
              "        0.        , 0.        , 0.        , 0.        , 0.        ,\n",
              "        0.        , 0.        , 0.        , 0.        , 0.        ,\n",
              "        0.        , 0.52156863, 0.99607843, 0.73333333, 0.01960784,\n",
              "        0.        , 0.        , 0.        , 0.        , 0.        ,\n",
              "        0.        , 0.        , 0.        ],\n",
              "       [0.        , 0.        , 0.        , 0.        , 0.        ,\n",
              "        0.        , 0.        , 0.        , 0.        , 0.        ,\n",
              "        0.        , 0.        , 0.        , 0.        , 0.        ,\n",
              "        0.03529412, 0.80392157, 0.97254902, 0.22745098, 0.        ,\n",
              "        0.        , 0.        , 0.        , 0.        , 0.        ,\n",
              "        0.        , 0.        , 0.        ],\n",
              "       [0.        , 0.        , 0.        , 0.        , 0.        ,\n",
              "        0.        , 0.        , 0.        , 0.        , 0.        ,\n",
              "        0.        , 0.        , 0.        , 0.        , 0.        ,\n",
              "        0.49411765, 0.99607843, 0.71372549, 0.        , 0.        ,\n",
              "        0.        , 0.        , 0.        , 0.        , 0.        ,\n",
              "        0.        , 0.        , 0.        ],\n",
              "       [0.        , 0.        , 0.        , 0.        , 0.        ,\n",
              "        0.        , 0.        , 0.        , 0.        , 0.        ,\n",
              "        0.        , 0.        , 0.        , 0.        , 0.29411765,\n",
              "        0.98431373, 0.94117647, 0.22352941, 0.        , 0.        ,\n",
              "        0.        , 0.        , 0.        , 0.        , 0.        ,\n",
              "        0.        , 0.        , 0.        ],\n",
              "       [0.        , 0.        , 0.        , 0.        , 0.        ,\n",
              "        0.        , 0.        , 0.        , 0.        , 0.        ,\n",
              "        0.        , 0.        , 0.        , 0.0745098 , 0.86666667,\n",
              "        0.99607843, 0.65098039, 0.        , 0.        , 0.        ,\n",
              "        0.        , 0.        , 0.        , 0.        , 0.        ,\n",
              "        0.        , 0.        , 0.        ],\n",
              "       [0.        , 0.        , 0.        , 0.        , 0.        ,\n",
              "        0.        , 0.        , 0.        , 0.        , 0.        ,\n",
              "        0.        , 0.        , 0.01176471, 0.79607843, 0.99607843,\n",
              "        0.85882353, 0.1372549 , 0.        , 0.        , 0.        ,\n",
              "        0.        , 0.        , 0.        , 0.        , 0.        ,\n",
              "        0.        , 0.        , 0.        ],\n",
              "       [0.        , 0.        , 0.        , 0.        , 0.        ,\n",
              "        0.        , 0.        , 0.        , 0.        , 0.        ,\n",
              "        0.        , 0.        , 0.14901961, 0.99607843, 0.99607843,\n",
              "        0.30196078, 0.        , 0.        , 0.        , 0.        ,\n",
              "        0.        , 0.        , 0.        , 0.        , 0.        ,\n",
              "        0.        , 0.        , 0.        ],\n",
              "       [0.        , 0.        , 0.        , 0.        , 0.        ,\n",
              "        0.        , 0.        , 0.        , 0.        , 0.        ,\n",
              "        0.        , 0.12156863, 0.87843137, 0.99607843, 0.45098039,\n",
              "        0.00392157, 0.        , 0.        , 0.        , 0.        ,\n",
              "        0.        , 0.        , 0.        , 0.        , 0.        ,\n",
              "        0.        , 0.        , 0.        ],\n",
              "       [0.        , 0.        , 0.        , 0.        , 0.        ,\n",
              "        0.        , 0.        , 0.        , 0.        , 0.        ,\n",
              "        0.        , 0.52156863, 0.99607843, 0.99607843, 0.20392157,\n",
              "        0.        , 0.        , 0.        , 0.        , 0.        ,\n",
              "        0.        , 0.        , 0.        , 0.        , 0.        ,\n",
              "        0.        , 0.        , 0.        ],\n",
              "       [0.        , 0.        , 0.        , 0.        , 0.        ,\n",
              "        0.        , 0.        , 0.        , 0.        , 0.        ,\n",
              "        0.23921569, 0.94901961, 0.99607843, 0.99607843, 0.20392157,\n",
              "        0.        , 0.        , 0.        , 0.        , 0.        ,\n",
              "        0.        , 0.        , 0.        , 0.        , 0.        ,\n",
              "        0.        , 0.        , 0.        ],\n",
              "       [0.        , 0.        , 0.        , 0.        , 0.        ,\n",
              "        0.        , 0.        , 0.        , 0.        , 0.        ,\n",
              "        0.4745098 , 0.99607843, 0.99607843, 0.85882353, 0.15686275,\n",
              "        0.        , 0.        , 0.        , 0.        , 0.        ,\n",
              "        0.        , 0.        , 0.        , 0.        , 0.        ,\n",
              "        0.        , 0.        , 0.        ],\n",
              "       [0.        , 0.        , 0.        , 0.        , 0.        ,\n",
              "        0.        , 0.        , 0.        , 0.        , 0.        ,\n",
              "        0.4745098 , 0.99607843, 0.81176471, 0.07058824, 0.        ,\n",
              "        0.        , 0.        , 0.        , 0.        , 0.        ,\n",
              "        0.        , 0.        , 0.        , 0.        , 0.        ,\n",
              "        0.        , 0.        , 0.        ],\n",
              "       [0.        , 0.        , 0.        , 0.        , 0.        ,\n",
              "        0.        , 0.        , 0.        , 0.        , 0.        ,\n",
              "        0.        , 0.        , 0.        , 0.        , 0.        ,\n",
              "        0.        , 0.        , 0.        , 0.        , 0.        ,\n",
              "        0.        , 0.        , 0.        , 0.        , 0.        ,\n",
              "        0.        , 0.        , 0.        ]])"
            ]
          },
          "metadata": {},
          "execution_count": 7
        }
      ]
    },
    {
      "cell_type": "code",
      "source": [
        "# Building the model\n",
        "\n",
        "tf.random.set_seed(42)\n",
        "\n",
        "model_0 = tf.keras.Sequential([\n",
        "      tf.keras.layers.Flatten(input_shape=(28, 28)), # Input layer\n",
        "      tf.keras.layers.Dense(10,activation='relu'), # Hidden layer\n",
        "      tf.keras.layers.Dense(10,activation='relu'), # Hidden layer\n",
        "      tf.keras.layers.Dense(10,activation='softmax'), # Output layer\n",
        "])\n",
        "\n",
        "model_0.compile(loss=tf.keras.losses.SparseCategoricalCrossentropy(), optimizer=tf.keras.optimizers.Adam(), metrics=['accuracy'])\n",
        "\n",
        "history_0 = model_0.fit(train_data_normalized,train_labels, epochs=50,validation_data=(test_data_normalized, test_labels))"
      ],
      "metadata": {
        "colab": {
          "base_uri": "https://localhost:8080/"
        },
        "id": "OU2aa07k4DP4",
        "outputId": "71f5b6f3-03e9-4b62-9c5a-990026123cae"
      },
      "execution_count": null,
      "outputs": [
        {
          "output_type": "stream",
          "name": "stdout",
          "text": [
            "Epoch 1/50\n",
            "1875/1875 [==============================] - 8s 4ms/step - loss: 0.5723 - accuracy: 0.8271 - val_loss: 0.3173 - val_accuracy: 0.9049\n",
            "Epoch 2/50\n",
            "1875/1875 [==============================] - 6s 3ms/step - loss: 0.2957 - accuracy: 0.9148 - val_loss: 0.2733 - val_accuracy: 0.9219\n",
            "Epoch 3/50\n",
            "1875/1875 [==============================] - 6s 3ms/step - loss: 0.2634 - accuracy: 0.9251 - val_loss: 0.2521 - val_accuracy: 0.9267\n",
            "Epoch 4/50\n",
            "1875/1875 [==============================] - 6s 3ms/step - loss: 0.2454 - accuracy: 0.9301 - val_loss: 0.2493 - val_accuracy: 0.9277\n",
            "Epoch 5/50\n",
            "1875/1875 [==============================] - 6s 3ms/step - loss: 0.2339 - accuracy: 0.9335 - val_loss: 0.2505 - val_accuracy: 0.9302\n",
            "Epoch 6/50\n",
            "1875/1875 [==============================] - 6s 3ms/step - loss: 0.2244 - accuracy: 0.9357 - val_loss: 0.2306 - val_accuracy: 0.9338\n",
            "Epoch 7/50\n",
            "1875/1875 [==============================] - 6s 3ms/step - loss: 0.2170 - accuracy: 0.9374 - val_loss: 0.2326 - val_accuracy: 0.9305\n",
            "Epoch 8/50\n",
            "1875/1875 [==============================] - 6s 3ms/step - loss: 0.2116 - accuracy: 0.9391 - val_loss: 0.2194 - val_accuracy: 0.9357\n",
            "Epoch 9/50\n",
            "1875/1875 [==============================] - 6s 3ms/step - loss: 0.2058 - accuracy: 0.9405 - val_loss: 0.2263 - val_accuracy: 0.9359\n",
            "Epoch 10/50\n",
            "1875/1875 [==============================] - 6s 3ms/step - loss: 0.2026 - accuracy: 0.9420 - val_loss: 0.2165 - val_accuracy: 0.9385\n",
            "Epoch 11/50\n",
            "1875/1875 [==============================] - 6s 3ms/step - loss: 0.1998 - accuracy: 0.9425 - val_loss: 0.2263 - val_accuracy: 0.9355\n",
            "Epoch 12/50\n",
            "1875/1875 [==============================] - 6s 3ms/step - loss: 0.1953 - accuracy: 0.9433 - val_loss: 0.2152 - val_accuracy: 0.9398\n",
            "Epoch 13/50\n",
            "1875/1875 [==============================] - 6s 3ms/step - loss: 0.1933 - accuracy: 0.9446 - val_loss: 0.2159 - val_accuracy: 0.9371\n",
            "Epoch 14/50\n",
            "1875/1875 [==============================] - 6s 3ms/step - loss: 0.1903 - accuracy: 0.9454 - val_loss: 0.2145 - val_accuracy: 0.9382\n",
            "Epoch 15/50\n",
            "1875/1875 [==============================] - 6s 3ms/step - loss: 0.1881 - accuracy: 0.9457 - val_loss: 0.2108 - val_accuracy: 0.9400\n",
            "Epoch 16/50\n",
            "1875/1875 [==============================] - 6s 3ms/step - loss: 0.1864 - accuracy: 0.9463 - val_loss: 0.2083 - val_accuracy: 0.9402\n",
            "Epoch 17/50\n",
            "1875/1875 [==============================] - 6s 3ms/step - loss: 0.1836 - accuracy: 0.9468 - val_loss: 0.2092 - val_accuracy: 0.9422\n",
            "Epoch 18/50\n",
            "1875/1875 [==============================] - 6s 3ms/step - loss: 0.1817 - accuracy: 0.9467 - val_loss: 0.2083 - val_accuracy: 0.9415\n",
            "Epoch 19/50\n",
            "1875/1875 [==============================] - 6s 3ms/step - loss: 0.1791 - accuracy: 0.9485 - val_loss: 0.2084 - val_accuracy: 0.9417\n",
            "Epoch 20/50\n",
            "1875/1875 [==============================] - 6s 3ms/step - loss: 0.1793 - accuracy: 0.9480 - val_loss: 0.2054 - val_accuracy: 0.9407\n",
            "Epoch 21/50\n",
            "1875/1875 [==============================] - 6s 3ms/step - loss: 0.1769 - accuracy: 0.9488 - val_loss: 0.2046 - val_accuracy: 0.9421\n",
            "Epoch 22/50\n",
            "1875/1875 [==============================] - 6s 3ms/step - loss: 0.1748 - accuracy: 0.9491 - val_loss: 0.2029 - val_accuracy: 0.9437\n",
            "Epoch 23/50\n",
            "1875/1875 [==============================] - 6s 3ms/step - loss: 0.1739 - accuracy: 0.9499 - val_loss: 0.2025 - val_accuracy: 0.9432\n",
            "Epoch 24/50\n",
            "1875/1875 [==============================] - 6s 3ms/step - loss: 0.1713 - accuracy: 0.9509 - val_loss: 0.2179 - val_accuracy: 0.9392\n",
            "Epoch 25/50\n",
            "1875/1875 [==============================] - 6s 3ms/step - loss: 0.1711 - accuracy: 0.9504 - val_loss: 0.2036 - val_accuracy: 0.9412\n",
            "Epoch 26/50\n",
            "1875/1875 [==============================] - 6s 3ms/step - loss: 0.1694 - accuracy: 0.9519 - val_loss: 0.2033 - val_accuracy: 0.9421\n",
            "Epoch 27/50\n",
            "1875/1875 [==============================] - 6s 3ms/step - loss: 0.1680 - accuracy: 0.9516 - val_loss: 0.2017 - val_accuracy: 0.9431\n",
            "Epoch 28/50\n",
            "1875/1875 [==============================] - 6s 3ms/step - loss: 0.1678 - accuracy: 0.9522 - val_loss: 0.2053 - val_accuracy: 0.9398\n",
            "Epoch 29/50\n",
            "1875/1875 [==============================] - 6s 3ms/step - loss: 0.1651 - accuracy: 0.9514 - val_loss: 0.2024 - val_accuracy: 0.9420\n",
            "Epoch 30/50\n",
            "1875/1875 [==============================] - 6s 3ms/step - loss: 0.1647 - accuracy: 0.9528 - val_loss: 0.2034 - val_accuracy: 0.9432\n",
            "Epoch 31/50\n",
            "1875/1875 [==============================] - 6s 3ms/step - loss: 0.1632 - accuracy: 0.9527 - val_loss: 0.2108 - val_accuracy: 0.9416\n",
            "Epoch 32/50\n",
            "1875/1875 [==============================] - 6s 3ms/step - loss: 0.1625 - accuracy: 0.9529 - val_loss: 0.2040 - val_accuracy: 0.9412\n",
            "Epoch 33/50\n",
            "1875/1875 [==============================] - 6s 3ms/step - loss: 0.1625 - accuracy: 0.9536 - val_loss: 0.2031 - val_accuracy: 0.9431\n",
            "Epoch 34/50\n",
            "1875/1875 [==============================] - 6s 3ms/step - loss: 0.1607 - accuracy: 0.9537 - val_loss: 0.2119 - val_accuracy: 0.9412\n",
            "Epoch 35/50\n",
            "1875/1875 [==============================] - 6s 3ms/step - loss: 0.1604 - accuracy: 0.9532 - val_loss: 0.2069 - val_accuracy: 0.9447\n",
            "Epoch 36/50\n",
            "1875/1875 [==============================] - 6s 3ms/step - loss: 0.1588 - accuracy: 0.9549 - val_loss: 0.2133 - val_accuracy: 0.9417\n",
            "Epoch 37/50\n",
            "1875/1875 [==============================] - 6s 3ms/step - loss: 0.1585 - accuracy: 0.9540 - val_loss: 0.2084 - val_accuracy: 0.9432\n",
            "Epoch 38/50\n",
            "1875/1875 [==============================] - 6s 3ms/step - loss: 0.1580 - accuracy: 0.9543 - val_loss: 0.2051 - val_accuracy: 0.9442\n",
            "Epoch 39/50\n",
            "1875/1875 [==============================] - 6s 3ms/step - loss: 0.1573 - accuracy: 0.9546 - val_loss: 0.2009 - val_accuracy: 0.9425\n",
            "Epoch 40/50\n",
            "1875/1875 [==============================] - 6s 3ms/step - loss: 0.1563 - accuracy: 0.9549 - val_loss: 0.2254 - val_accuracy: 0.9389\n",
            "Epoch 41/50\n",
            "1875/1875 [==============================] - 6s 3ms/step - loss: 0.1554 - accuracy: 0.9549 - val_loss: 0.1989 - val_accuracy: 0.9432\n",
            "Epoch 42/50\n",
            "1875/1875 [==============================] - 6s 3ms/step - loss: 0.1547 - accuracy: 0.9555 - val_loss: 0.1984 - val_accuracy: 0.9458\n",
            "Epoch 43/50\n",
            "1875/1875 [==============================] - 6s 3ms/step - loss: 0.1539 - accuracy: 0.9557 - val_loss: 0.2011 - val_accuracy: 0.9443\n",
            "Epoch 44/50\n",
            "1875/1875 [==============================] - 6s 3ms/step - loss: 0.1535 - accuracy: 0.9560 - val_loss: 0.2069 - val_accuracy: 0.9424\n",
            "Epoch 45/50\n",
            "1875/1875 [==============================] - 6s 3ms/step - loss: 0.1536 - accuracy: 0.9557 - val_loss: 0.2045 - val_accuracy: 0.9420\n",
            "Epoch 46/50\n",
            "1875/1875 [==============================] - 6s 3ms/step - loss: 0.1520 - accuracy: 0.9568 - val_loss: 0.2034 - val_accuracy: 0.9440\n",
            "Epoch 47/50\n",
            "1875/1875 [==============================] - 6s 3ms/step - loss: 0.1521 - accuracy: 0.9560 - val_loss: 0.2128 - val_accuracy: 0.9434\n",
            "Epoch 48/50\n",
            "1875/1875 [==============================] - 7s 4ms/step - loss: 0.1516 - accuracy: 0.9566 - val_loss: 0.2104 - val_accuracy: 0.9428\n",
            "Epoch 49/50\n",
            "1875/1875 [==============================] - 6s 3ms/step - loss: 0.1506 - accuracy: 0.9567 - val_loss: 0.2031 - val_accuracy: 0.9440\n",
            "Epoch 50/50\n",
            "1875/1875 [==============================] - 6s 3ms/step - loss: 0.1507 - accuracy: 0.9561 - val_loss: 0.2015 - val_accuracy: 0.9460\n"
          ]
        }
      ]
    },
    {
      "cell_type": "code",
      "source": [
        "! wget https://raw.githubusercontent.com/mrdbourke/tensorflow-deep-learning/main/extras/helper_functions.py"
      ],
      "metadata": {
        "colab": {
          "base_uri": "https://localhost:8080/"
        },
        "id": "pxeEJfcN545i",
        "outputId": "9ad77978-f285-4584-8bde-1d1beb061afd"
      },
      "execution_count": null,
      "outputs": [
        {
          "output_type": "stream",
          "name": "stdout",
          "text": [
            "--2022-01-09 11:16:37--  https://raw.githubusercontent.com/mrdbourke/tensorflow-deep-learning/main/extras/helper_functions.py\n",
            "Resolving raw.githubusercontent.com (raw.githubusercontent.com)... 185.199.108.133, 185.199.109.133, 185.199.110.133, ...\n",
            "Connecting to raw.githubusercontent.com (raw.githubusercontent.com)|185.199.108.133|:443... connected.\n",
            "HTTP request sent, awaiting response... 200 OK\n",
            "Length: 10246 (10K) [text/plain]\n",
            "Saving to: ‘helper_functions.py’\n",
            "\n",
            "\rhelper_functions.py   0%[                    ]       0  --.-KB/s               \rhelper_functions.py 100%[===================>]  10.01K  --.-KB/s    in 0s      \n",
            "\n",
            "2022-01-09 11:16:37 (77.3 MB/s) - ‘helper_functions.py’ saved [10246/10246]\n",
            "\n"
          ]
        }
      ]
    },
    {
      "cell_type": "code",
      "source": [
        "from helper_functions import plot_loss_curves,make_confusion_matrix,create_tensorboard_callback"
      ],
      "metadata": {
        "id": "cHgt9Eoq6x0a"
      },
      "execution_count": null,
      "outputs": []
    },
    {
      "cell_type": "code",
      "source": [
        "plot_loss_curves(history_0)"
      ],
      "metadata": {
        "colab": {
          "base_uri": "https://localhost:8080/",
          "height": 573
        },
        "id": "miK3aage60P2",
        "outputId": "57b89937-e529-458e-c350-8b40825df104"
      },
      "execution_count": null,
      "outputs": [
        {
          "output_type": "display_data",
          "data": {
            "image/png": "[encoded data removed]",
            "text/plain": [
              "<Figure size 432x288 with 1 Axes>"
            ]
          },
          "metadata": {
            "needs_background": "light"
          }
        },
        {
          "output_type": "display_data",
          "data": {
            "image/png": "[encoded data removed]",
            "text/plain": [
              "<Figure size 432x288 with 1 Axes>"
            ]
          },
          "metadata": {
            "needs_background": "light"
          }
        }
      ]
    },
    {
      "cell_type": "code",
      "source": [
        " import random\n",
        "\n",
        "# Create a function for plotting a random image along with its prediction\n",
        "def plot_random_image(model, images, true_labels, classes):\n",
        "  \"\"\"Picks a random image, plots it and labels it with a predicted and truth label.\n",
        "\n",
        "  Args:\n",
        "    model: a trained model (trained on data similar to what's in images).\n",
        "    images: a set of random images (in tensor form).\n",
        "    true_labels: array of ground truth labels for images.\n",
        "    classes: array of class names for images.\n",
        "  \n",
        "  Returns:\n",
        "    A plot of a random image from `images` with a predicted class label from `model`\n",
        "    as well as the truth class label from `true_labels`.\n",
        "  \"\"\" \n",
        "  # Setup random integer\n",
        "  i = random.randint(0, len(images))\n",
        "  \n",
        "  # Create predictions and targets\n",
        "  target_image = images[i]\n",
        "  pred_probs = model.predict(target_image.reshape(1, 28, 28)) # have to reshape to get into right size for model\n",
        "  pred_label = classes[pred_probs.argmax()]\n",
        "  true_label = classes[true_labels[i]]\n",
        "\n",
        "  # Plot the target image\n",
        "  plt.imshow(target_image, cmap=plt.cm.binary)\n",
        "\n",
        "  # Change the color of the titles depending on if the prediction is right or wrong\n",
        "  if pred_label == true_label:\n",
        "    color = \"green\"\n",
        "  else:\n",
        "    color = \"red\"\n",
        "\n",
        "  # Add xlabel information (prediction/true label)\n",
        "  plt.xlabel(\"Pred: {} {:2.0f}% (True: {})\".format(pred_label,\n",
        "                                                   100*tf.reduce_max(pred_probs),\n",
        "                                                   true_label),\n",
        "             color=color) # set the color to green or red"
      ],
      "metadata": {
        "id": "3EPb7MV463NZ"
      },
      "execution_count": null,
      "outputs": []
    },
    {
      "cell_type": "code",
      "source": [
        "plot_random_image(model_0,images=test_data, \n",
        "                  true_labels=test_labels, classes=class_names)"
      ],
      "metadata": {
        "colab": {
          "base_uri": "https://localhost:8080/",
          "height": 279
        },
        "id": "bTQxMJ_D7H30",
        "outputId": "7ad45290-5777-42ae-d9a1-c933f04c0541"
      },
      "execution_count": null,
      "outputs": [
        {
          "output_type": "display_data",
          "data": {
            "image/png": "[encoded data removed]",
            "text/plain": [
              "<Figure size 432x288 with 1 Axes>"
            ]
          },
          "metadata": {
            "needs_background": "light"
          }
        }
      ]
    },
    {
      "cell_type": "code",
      "source": [
        "# Make predictions with the most recent model\n",
        "y_probs = model_0.predict(test_data) # \"probs\" is short for probabilities\n"
      ],
      "metadata": {
        "id": "5YFqzXvw7KGn"
      },
      "execution_count": null,
      "outputs": []
    },
    {
      "cell_type": "code",
      "source": [
        "y_preds = y_probs.argmax(axis=1)"
      ],
      "metadata": {
        "id": "r4kE2xt3-kGb"
      },
      "execution_count": null,
      "outputs": []
    },
    {
      "cell_type": "code",
      "source": [
        "# Make a prettier confusion matrix\n",
        "make_confusion_matrix(y_true=test_labels, \n",
        "                      y_pred=y_preds,\n",
        "                      classes=class_names,\n",
        "                      figsize=(15, 15),\n",
        "                      text_size=10)"
      ],
      "metadata": {
        "colab": {
          "base_uri": "https://localhost:8080/",
          "height": 852
        },
        "id": "R_SlvcUr-pnr",
        "outputId": "2a100fd3-e80c-4769-bb14-03190f547800"
      },
      "execution_count": null,
      "outputs": [
        {
          "output_type": "display_data",
          "data": {
            "image/png": "[encoded data removed]",
            "text/plain": [
              "<Figure size 1080x1080 with 2 Axes>"
            ]
          },
          "metadata": {
            "needs_background": "light"
          }
        }
      ]
    }
  ]
}